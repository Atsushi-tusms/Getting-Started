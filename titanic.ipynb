{
 "cells": [
  {
   "cell_type": "code",
   "execution_count": null,
   "source": [
    "#ライブラリインポートなど\r\n",
    "import pandas as pd\r\n",
    "import numpy as np\r\n",
    "df = pd.read_csv('train.csv')\r\n",
    "\r\n",
    "import matplotlib.pyplot as plt\r\n",
    "import seaborn as sns\r\n",
    "%matplotlib inline "
   ],
   "outputs": [],
   "metadata": {}
  },
  {
   "cell_type": "code",
   "execution_count": null,
   "source": [
    "#項目やデータ形式の確認\r\n",
    "df.head()"
   ],
   "outputs": [],
   "metadata": {}
  },
  {
   "cell_type": "code",
   "execution_count": null,
   "source": [
    "#基本的な統計量の確認\r\n",
    "df.describe()"
   ],
   "outputs": [],
   "metadata": {}
  },
  {
   "cell_type": "code",
   "execution_count": null,
   "source": [
    "#ヒストグラムを作成\r\n",
    "df.hist(figsize = (12,12))"
   ],
   "outputs": [],
   "metadata": {}
  },
  {
   "cell_type": "code",
   "execution_count": null,
   "source": [
    "#各項目の相関関係を可視化\r\n",
    "plt.figure(figsize = (15,15))\r\n",
    "sns.heatmap(df.corr(),annot = True)"
   ],
   "outputs": [],
   "metadata": {}
  },
  {
   "cell_type": "code",
   "execution_count": null,
   "source": [
    "#試しに性別と目的変数の関係を可視化\r\n",
    "sns.countplot('Sex' , hue = 'Survived',data = df)"
   ],
   "outputs": [],
   "metadata": {}
  },
  {
   "cell_type": "code",
   "execution_count": null,
   "source": [
    "#各行・列ごとに欠損値を一つでも含むか確認\r\n",
    "df.isnull().sum()"
   ],
   "outputs": [],
   "metadata": {}
  },
  {
   "cell_type": "code",
   "execution_count": null,
   "source": [
    "from sklearn.model_selection import  train_test_split\r\n",
    "#欠損値処理\r\n",
    "df['Fare'] = df['Fare'].fillna(df['Fare'].median())\r\n",
    "df['Age'] = df['Age'].fillna(df['Age'].median())\r\n",
    "df['Embarked'] = df['Embarked'].fillna('S')\r\n",
    "\r\n",
    "#カテゴリ変数の変換\r\n",
    "df['Sex'] = df['Sex'].apply(lambda x: 1 if x == 'male' else 0)\r\n",
    "df['Embarked'] = df['Embarked'].map( {'S': 0 , 'C':1 , 'Q':2}).astype(int)\r\n",
    "\r\n",
    "#不要なcolumnを削除\r\n",
    "df = df.drop(['Cabin','Name','PassengerId','Ticket'],axis =1)\r\n",
    "\r\n",
    "#学習データとテストデータに分割\r\n",
    "train_X = df.drop('Survived',axis = 1)\r\n",
    "train_y = df.Survived\r\n",
    "(train_X , test_X , train_y , test_y) = train_test_split(train_X, train_y , test_size = 0.3 , random_state = 0)"
   ],
   "outputs": [],
   "metadata": {}
  },
  {
   "cell_type": "code",
   "execution_count": null,
   "source": [
    "from sklearn.tree import DecisionTreeClassifier\r\n",
    "clf = DecisionTreeClassifier(random_state = 0)\r\n",
    "clf = clf.fit(train_X , train_y)\r\n",
    "pred = clf.predict(test_X)\r\n",
    "\r\n",
    "#正解率の算出\r\n",
    "from sklearn.metrics import (roc_curve , auc ,accuracy_score)\r\n",
    "pred = clf.predict(test_X)\r\n",
    "fpr, tpr, thresholds = roc_curve(test_y , pred,pos_label = 1)\r\n",
    "auc(fpr,tpr)\r\n",
    "accuracy_score(pred,test_y)"
   ],
   "outputs": [],
   "metadata": {}
  },
  {
   "cell_type": "code",
   "execution_count": null,
   "source": [
    "#ランダムフォレストの実施\r\n",
    "from sklearn.ensemble import RandomForestClassifier\r\n",
    "clf = RandomForestClassifier(n_estimators = 10,max_depth=5,random_state = 0)\r\n",
    "clf = clf.fit(train_X , train_y)\r\n",
    "pred = clf.predict(test_X)\r\n",
    "fpr, tpr , thresholds = roc_curve(test_y,pred,pos_label = 1)\r\n",
    "auc(fpr,tpr)\r\n",
    "accuracy_score(pred,test_y)"
   ],
   "outputs": [],
   "metadata": {}
  },
  {
   "cell_type": "code",
   "execution_count": null,
   "source": [
    "fin = pd.read_csv('test.csv')\r\n",
    "fin.head()\r\n",
    "\r\n",
    "passsengerid = fin['PassengerId']\r\n",
    "fin.isnull().sum()\r\n",
    "fin['Fare'] = fin['Fare'].fillna(fin['Fare'].median())\r\n",
    "fin['Age'] = fin['Age'].fillna(fin['Age'].median())\r\n",
    "fin['Embarked'] = fin['Embarked'].fillna('S')\r\n",
    "\r\n",
    "#カテゴリ変数の変換\r\n",
    "fin['Sex'] = fin['Sex'].apply(lambda x: 1 if x == 'male' else 0)\r\n",
    "fin['Embarked'] = fin['Embarked'].map( {'S': 0 , 'C':1 , 'Q':2}).astype(int)\r\n",
    "\r\n",
    "#不要なcolumnを削除\r\n",
    "fin= fin.drop(['Cabin','Name','Ticket','PassengerId'],axis =1)\r\n",
    "#ランダムフォレストで予測\r\n",
    "predictions = clf.predict(fin)\r\n",
    "\r\n",
    "submission = pd.DataFrame({'PassengerId':passsengerid, 'Survived':predictions})\r\n",
    "submission.to_csv('submission.csv' , index = False)\r\n"
   ],
   "outputs": [],
   "metadata": {}
  }
 ],
 "metadata": {
  "kernelspec": {
   "name": "python3",
   "display_name": "Python 3.9.1 64-bit ('base': conda)"
  },
  "language_info": {
   "codemirror_mode": {
    "name": "ipython",
    "version": 3
   },
   "file_extension": ".py",
   "mimetype": "text/x-python",
   "name": "python",
   "nbconvert_exporter": "python",
   "pygments_lexer": "ipython3",
   "version": "3.9.1"
  },
  "interpreter": {
   "hash": "80c20b74181adba1209bedef4e406a2e0d6993dcac60637a9327365fb010685c"
  }
 },
 "nbformat": 4,
 "nbformat_minor": 5
}